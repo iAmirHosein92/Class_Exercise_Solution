{
 "cells": [
  {
   "cell_type": "code",
   "id": "initial_id",
   "metadata": {
    "collapsed": true,
    "ExecuteTime": {
     "end_time": "2025-01-13T10:46:58.452539Z",
     "start_time": "2025-01-13T10:46:58.449100Z"
    }
   },
   "source": "import sqlite3",
   "outputs": [],
   "execution_count": 7
  },
  {
   "metadata": {
    "ExecuteTime": {
     "end_time": "2025-01-13T10:45:38.665073Z",
     "start_time": "2025-01-13T10:45:38.660425Z"
    }
   },
   "cell_type": "code",
   "source": [
    "#1.\n",
    "con = sqlite3.connect(\"students.db\")\n",
    "cur = con.cursor()\n",
    "creat_table_statement = \"\"\"CREATE TABLE IF NOT EXISTS students (\n",
    "                    id INTEGER primary key unique,\n",
    "                    name TEXT,\n",
    "                    age INTEGER,\n",
    "                    garde REAL\n",
    "                    )\"\"\"\n",
    "con.execute(creat_table_statement)\n",
    "con.close()"
   ],
   "id": "ddbb6fda3c2fc71a",
   "outputs": [],
   "execution_count": 6
  },
  {
   "metadata": {
    "ExecuteTime": {
     "end_time": "2025-01-13T10:53:05.224540Z",
     "start_time": "2025-01-13T10:51:40.694798Z"
    }
   },
   "cell_type": "code",
   "source": [
    "#2.\n",
    "con = sqlite3.connect(\"students.db\")\n",
    "cur = con.cursor()\n",
    "\n",
    "def new_student(name, age, grade):\n",
    "    insert_statement = \"\"\"INSERT INTO students (name, age, garde) VALUES (?,?,?)\"\"\"\n",
    "    data = (name, age, grade)\n",
    "    cur.execute(insert_statement, data)\n",
    "    con.commit()\n",
    "\n",
    "while True:\n",
    "    name = input(\"Enter student name: \")\n",
    "    age = int(input(\"Enter student age: \"))\n",
    "    grade = float(input(\"Enter student grade: \"))\n",
    "    new_student(name, age, grade)\n",
    "    if input(\"Do you want to add another student? (y/n): \") == 'n':\n",
    "        con.close()\n",
    "        break"
   ],
   "id": "eac6584959751099",
   "outputs": [],
   "execution_count": 8
  },
  {
   "metadata": {
    "ExecuteTime": {
     "end_time": "2025-01-13T11:03:25.322267Z",
     "start_time": "2025-01-13T11:03:25.314886Z"
    }
   },
   "cell_type": "code",
   "source": [
    "#3.\n",
    "con = sqlite3.connect(\"students.db\")\n",
    "cur = con.cursor()\n",
    "garde_select = \"\"\"SELECT * FROM students WHERE students.garde > 15\"\"\"\n",
    "grade_data = cur.execute(garde_select).fetchall()\n",
    "print(grade_data)\n",
    "#use fetchall() to get all data\n",
    "data = cur.execute(\"\"\"SELECT * FROM students\"\"\").fetchall()\n",
    "print(data)\n",
    "con.close()"
   ],
   "id": "a03dc49d68baefc3",
   "outputs": [
    {
     "name": "stdout",
     "output_type": "stream",
     "text": [
      "[(1, 'AmirHosein', 32, 20.0), (2, 'harry', 33, 16.0)]\n",
      "[(1, 'AmirHosein', 32, 20.0), (2, 'harry', 33, 16.0), (3, 'ron', 27, 14.0), (4, 'hermione', 26, 13.0)]\n"
     ]
    }
   ],
   "execution_count": 20
  },
  {
   "metadata": {
    "ExecuteTime": {
     "end_time": "2025-01-13T11:08:55.570147Z",
     "start_time": "2025-01-13T11:08:41.436933Z"
    }
   },
   "cell_type": "code",
   "source": [
    "#4.\n",
    "con = sqlite3.connect(\"students.db\")\n",
    "cur = con.cursor()\n",
    "\n",
    "def update_grade(id, grade):\n",
    "    update_statements = \"\"\"UPDATE students SET garde = ? WHERE id = ?\"\"\"\n",
    "    data = (grade, id)\n",
    "    cur.execute(update_statements, data)\n",
    "    con.commit()\n",
    "    print(\"Grade updated successfully...\\n\")\n",
    "    con.close()\n",
    "\n",
    "while True:\n",
    "    id = int(input(\"Enter Studnet ID: \"))\n",
    "    grade = float(input(\"Enter new grade: \"))\n",
    "    update_grade(id, grade)\n",
    "    if input(\"Do you want to update another student? (y/n): \") == 'n':\n",
    "        con.close()\n",
    "        break\n"
   ],
   "id": "6bbfb180ed2d4797",
   "outputs": [
    {
     "name": "stdout",
     "output_type": "stream",
     "text": [
      "Grade updated successfully...\n",
      "\n"
     ]
    }
   ],
   "execution_count": 22
  },
  {
   "metadata": {
    "ExecuteTime": {
     "end_time": "2025-01-13T11:11:18.414743Z",
     "start_time": "2025-01-13T11:11:09.220536Z"
    }
   },
   "cell_type": "code",
   "source": [
    "#5.\n",
    "con = sqlite3.connect(\"students.db\")\n",
    "cur = con.cursor()\n",
    "\n",
    "def delete_students(id):\n",
    "    delete_statement = \"\"\"DELETE FROM students WHERE id = ?\"\"\"\n",
    "    data = (id, )\n",
    "    cur.execute(delete_statement, data)\n",
    "    con.commit()\n",
    "    print(\"Student deleted successfully...\\n\")\n",
    "\n",
    "while True:\n",
    "    id = int(input(\"Enter Studnet ID: \"))\n",
    "    delete_students(id)\n",
    "    if input(\"Do you want to delete another student? (y/n): \") == 'n':\n",
    "        con.close()\n",
    "        break"
   ],
   "id": "eda754e624c3b2ee",
   "outputs": [
    {
     "name": "stdout",
     "output_type": "stream",
     "text": [
      "Student deleted successfully...\n",
      "\n"
     ]
    }
   ],
   "execution_count": 23
  },
  {
   "metadata": {
    "ExecuteTime": {
     "end_time": "2025-01-13T11:19:21.499150Z",
     "start_time": "2025-01-13T11:19:17.287172Z"
    }
   },
   "cell_type": "code",
   "source": [
    "#6.\n",
    "con = sqlite3.connect(\"students.db\")\n",
    "cur = con.cursor()\n",
    "\n",
    "def student_info(name):\n",
    "    select_statement = \"\"\"SELECT * FROM students WHERE name = ?\"\"\"\n",
    "    data = (name, )\n",
    "    result = cur.execute(select_statement, data).fetchall()\n",
    "    print(result)\n",
    "    con.close()\n",
    "\n",
    "name = input(\"Enter student name: \")\n",
    "student_info(name)"
   ],
   "id": "79b10f1c98f2117",
   "outputs": [
    {
     "name": "stdout",
     "output_type": "stream",
     "text": [
      "[(2, 'harry', 33, 20.0)]\n"
     ]
    }
   ],
   "execution_count": 30
  },
  {
   "metadata": {
    "ExecuteTime": {
     "end_time": "2025-01-13T11:21:58.918784Z",
     "start_time": "2025-01-13T11:21:58.908493Z"
    }
   },
   "cell_type": "code",
   "source": [
    "#7.\n",
    "con = sqlite3.connect(\"students.db\")\n",
    "cur = con.cursor()\n",
    "\n",
    "avg_statement = \"\"\"SELECT AVG(garde) FROM students\"\"\"\n",
    "avg_grade = cur.execute(avg_statement)\n",
    "print(avg_grade.fetchone())\n",
    "con.close()"
   ],
   "id": "1eed588ee362eec0",
   "outputs": [
    {
     "name": "stdout",
     "output_type": "stream",
     "text": [
      "(15.333333333333334,)\n"
     ]
    }
   ],
   "execution_count": 34
  }
 ],
 "metadata": {
  "kernelspec": {
   "display_name": "Python 3",
   "language": "python",
   "name": "python3"
  },
  "language_info": {
   "codemirror_mode": {
    "name": "ipython",
    "version": 2
   },
   "file_extension": ".py",
   "mimetype": "text/x-python",
   "name": "python",
   "nbconvert_exporter": "python",
   "pygments_lexer": "ipython2",
   "version": "2.7.6"
  }
 },
 "nbformat": 4,
 "nbformat_minor": 5
}
