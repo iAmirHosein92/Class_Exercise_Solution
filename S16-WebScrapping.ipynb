{
 "cells": [
  {
   "metadata": {
    "ExecuteTime": {
     "end_time": "2025-01-20T06:14:57.291964Z",
     "start_time": "2025-01-20T06:14:57.283843Z"
    }
   },
   "cell_type": "code",
   "source": [
    "import requests\n",
    "from bs4 import BeautifulSoup\n",
    "import sqlite3\n",
    "import re"
   ],
   "id": "798c554b695fe1d3",
   "outputs": [],
   "execution_count": 153
  },
  {
   "metadata": {
    "ExecuteTime": {
     "end_time": "2025-01-20T06:14:59.425438Z",
     "start_time": "2025-01-20T06:14:59.416417Z"
    }
   },
   "cell_type": "code",
   "source": [
    "con = sqlite3.connect('posts.db')\n",
    "cur = con.cursor()\n",
    "create_table_statements = \"\"\"CREATE TABLE IF NOT EXISTS iranjib(\n",
    "                                id,\n",
    "                                url,\n",
    "                                title,\n",
    "                                summary,\n",
    "                                content,\n",
    "                                date)\"\"\"\n",
    "cur.execute(create_table_statements)"
   ],
   "id": "db98476fc5a03f5b",
   "outputs": [
    {
     "data": {
      "text/plain": [
       "<sqlite3.Cursor at 0x1050861c0>"
      ]
     },
     "execution_count": 154,
     "metadata": {},
     "output_type": "execute_result"
    }
   ],
   "execution_count": 154
  },
  {
   "metadata": {
    "ExecuteTime": {
     "end_time": "2025-01-20T06:02:32.989895Z",
     "start_time": "2025-01-20T06:01:47.258086Z"
    }
   },
   "cell_type": "code",
   "source": [
    "keywords = ['ارز', 'طلا', 'سکه']\n",
    "links = []\n",
    "\n",
    "for page_num in range(0, 300):\n",
    "    archive_url = f'https://www.iranjib.ir/showarchive/{page_num}/0/'\n",
    "    res = requests.get(archive_url)\n",
    "    res.raise_for_status()\n",
    "    soup = BeautifulSoup(res.text, \"html.parser\")\n",
    "    news = soup.find_all(name='tr')\n",
    "\n",
    "    for item in news[1:-1]:\n",
    "        news_date = item.find_all(name='td')[2].getText()\n",
    "        yearReg = re.findall('۱۴۰۳', news_date)\n",
    "        views = int(item.find_all(name='td')[1].getText().split()[0])\n",
    "        title = item.find_all(name='td')[0].getText().split()\n",
    "\n",
    "        if yearReg:\n",
    "            if (views >= 1000)  and any(keyword in title for keyword in keywords):\n",
    "                news_link = '/'.join(item.find_all(name='a')[0]['href'].split('/')[0:5]) + '/'\n",
    "                links.append(news_link)\n",
    "        else:\n",
    "            break\n",
    "    for id, url in enumerate(links):\n",
    "        r = requests.get(url)\n",
    "        soup = BeautifulSoup(r.text, 'html.parser')\n",
    "        title = soup.find('h1').getText()\n",
    "        summary = soup.find('div',attrs={'class':'newssummary'}).getText()\n",
    "        content_list = soup.find_all('p')\n",
    "        content = ''\n",
    "        for p in content_list:\n",
    "            content += p.getText() + '\\n'\n",
    "        date_table = soup.find_all('table', attrs= {'class':'cellspacing0'})[0]\n",
    "        date = date_table.find_all('td')[4].getText()\n",
    "        insert_statements = \"\"\"INSERT INTO iranjib\n",
    "                                (id,url,title,summary,content,date)\n",
    "                                VALUES\n",
    "                                (?,?,?,?,?,?)\"\"\"\n",
    "        cur.execute(insert_statements,(id,url,title,summary,content,date))\n",
    "        con.commit()\n",
    "\n",
    "con.close()\n",
    "\n"
   ],
   "id": "9c663de1595721e5",
   "outputs": [],
   "execution_count": 152
  }
 ],
 "metadata": {
  "kernelspec": {
   "name": "python3",
   "language": "python",
   "display_name": "Python 3 (ipykernel)"
  }
 },
 "nbformat": 5,
 "nbformat_minor": 9
}
