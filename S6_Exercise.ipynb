{
 "cells": [
  {
   "cell_type": "markdown",
   "metadata": {},
   "source": [
    "#S6-Solution"
   ]
  },
  {
   "cell_type": "code",
   "execution_count": 29,
   "metadata": {},
   "outputs": [
    {
     "data": {
      "text/plain": [
       "120"
      ]
     },
     "execution_count": 29,
     "metadata": {},
     "output_type": "execute_result"
    }
   ],
   "source": [
    "#1:\n",
    "sample_list = [1,2,3,4,5]\n",
    "result = 1\n",
    "for num in sample_list:\n",
    "    result *= num\n",
    "result"
   ]
  },
  {
   "cell_type": "code",
   "execution_count": 30,
   "metadata": {},
   "outputs": [
    {
     "data": {
      "text/plain": [
       "['a', 'b', 'c', 'd', 'z']"
      ]
     },
     "execution_count": 30,
     "metadata": {},
     "output_type": "execute_result"
    }
   ],
   "source": [
    "#2:\n",
    "sample_list_2 = [\"a\",\"b\",\"c\",\"d\",\"z\",\"c\",\"d\",\"a\",\"b\"]\n",
    "final_list_2 = []\n",
    "for char in sample_list_2:\n",
    "    if char not in final_list_2:\n",
    "        final_list_2.append(char)\n",
    "final_list_2"
   ]
  },
  {
   "cell_type": "code",
   "execution_count": 31,
   "metadata": {},
   "outputs": [
    {
     "data": {
      "text/plain": [
       "['z', 'd', 'd', 'x']"
      ]
     },
     "execution_count": 31,
     "metadata": {},
     "output_type": "execute_result"
    }
   ],
   "source": [
    "#3:\n",
    "sample_list_3 = [\"a\",\"f\",\"z\",\"d\",\"i\",\"d\",\"a\",\"x\"]\n",
    "sample_list_3_ = [\"c\",\"d\",\"c\",\"x\",\"y\",\"d\",\"z\",\"b\"]\n",
    "final_list_3 = []\n",
    "for char in sample_list_3:\n",
    "    if char in sample_list_3_:\n",
    "        final_list_3.append(char)\n",
    "final_list_3"
   ]
  },
  {
   "cell_type": "code",
   "execution_count": 32,
   "metadata": {},
   "outputs": [
    {
     "data": {
      "text/plain": [
       "['a', 'f', 'i', 'a']"
      ]
     },
     "execution_count": 32,
     "metadata": {},
     "output_type": "execute_result"
    }
   ],
   "source": [
    "#4:\n",
    "sample_list_4 = [\"a\",\"f\",\"z\",\"d\",\"i\",\"d\",\"a\",\"x\"]\n",
    "sample_list_4_ = [\"c\",\"d\",\"c\",\"x\",\"y\",\"d\",\"z\",\"b\"]\n",
    "final_list_4 = []\n",
    "for char in sample_list_4:\n",
    "    if char not in sample_list_4_:\n",
    "        final_list_4.append(char)\n",
    "final_list_4"
   ]
  },
  {
   "cell_type": "code",
   "execution_count": 33,
   "metadata": {},
   "outputs": [
    {
     "name": "stdout",
     "output_type": "stream",
     "text": [
      "['a', 'e', 'i', 'u', 'o']\n",
      "a : 1\n",
      "e : 1\n",
      "u : 1\n",
      "i : 1\n",
      "o : 1\n"
     ]
    }
   ],
   "source": [
    "#5:\n",
    "text_example = \"Apple Inc. is an American multinational corporation and technology company headquartered and incorporated in Cupertino, California, in Silicon Valley. It is best known for its consumer electronics, software, and services. Wikipedia\".lower()\n",
    "vowel = \"aeuio\"\n",
    "final_list_5 = []\n",
    "for letter in text_example:\n",
    "    if letter in vowel:\n",
    "        if letter not in final_list_5:\n",
    "            final_list_5.append(letter)\n",
    "print(final_list_5)\n",
    "for char in vowel:\n",
    "    print(f\"{char} : {final_list_5.count(char)}\")"
   ]
  }
 ],
 "metadata": {
  "kernelspec": {
   "display_name": "Python 3",
   "language": "python",
   "name": "python3"
  },
  "language_info": {
   "codemirror_mode": {
    "name": "ipython",
    "version": 3
   },
   "file_extension": ".py",
   "mimetype": "text/x-python",
   "name": "python",
   "nbconvert_exporter": "python",
   "pygments_lexer": "ipython3",
   "version": "3.10.11"
  }
 },
 "nbformat": 4,
 "nbformat_minor": 2
}
