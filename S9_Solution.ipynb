{
 "cells": [
  {
   "cell_type": "markdown",
   "metadata": {},
   "source": [
    "S9_Solutions:"
   ]
  },
  {
   "cell_type": "code",
   "execution_count": 31,
   "metadata": {},
   "outputs": [
    {
     "data": {
      "text/plain": [
       "(1234, -6542)"
      ]
     },
     "execution_count": 31,
     "metadata": {},
     "output_type": "execute_result"
    }
   ],
   "source": [
    "#1:\n",
    "def reverse_int(number):\n",
    "    result=\"\"\n",
    "    for char in str(number):\n",
    "            result += char\n",
    "    return int(result)\n",
    "reverse_int(1234),reverse_int(-6542)"
   ]
  },
  {
   "cell_type": "code",
   "execution_count": null,
   "metadata": {},
   "outputs": [
    {
     "data": {
      "text/plain": [
       "7.708333333333333"
      ]
     },
     "execution_count": 56,
     "metadata": {},
     "output_type": "execute_result"
    }
   ],
   "source": [
    "#2:\n",
    "def avlengh(text):\n",
    "    words_len = len([word for word in text.split() if word.isalpha()])\n",
    "    char_len = len([word for word in text if word.isalpha()])\n",
    "    return char_len / words_len\n",
    "text = \"Apple Inc ! is an American multinational ? corporation and technology company headquartered and incorporated in Cupertino, California, in Silicon Valley. It is best known for its consumer electronics, software, and services.\"\n",
    "avlengh(text)"
   ]
  },
  {
   "cell_type": "code",
   "execution_count": 91,
   "metadata": {},
   "outputs": [
    {
     "data": {
      "text/plain": [
       "458"
      ]
     },
     "execution_count": 91,
     "metadata": {},
     "output_type": "execute_result"
    }
   ],
   "source": [
    "#3:\n",
    "def addString(*args):\n",
    "    try:\n",
    "        return sum([int(arg) for arg in args ])\n",
    "    except:\n",
    "        return \"Only Enter Number.\"\n",
    "addString(\"25\",\"423\",10)"
   ]
  },
  {
   "cell_type": "code",
   "execution_count": null,
   "metadata": {},
   "outputs": [
    {
     "data": {
      "text/plain": [
       "'g'"
      ]
     },
     "execution_count": 92,
     "metadata": {},
     "output_type": "execute_result"
    }
   ],
   "source": [
    "#4:\n",
    "def firstUChar(text):\n",
    "    firstuchar_list= [char for char in text.lower() if text.count(char)== 1 and char.isalpha()]\n",
    "    if len(firstuchar_list)>0:\n",
    "        return firstuchar_list[0]\n",
    "    else:\n",
    "        return -1\n",
    "text = \"Apple Inc ! isc an American multinational ? corporation and technology company headquartered and incorporated in Cupertino, California, in Silicon Valley. It is best known for its consumer electronics, software, and services.\"\n",
    "firstUChar(text)"
   ]
  }
 ],
 "metadata": {
  "kernelspec": {
   "display_name": "Python 3",
   "language": "python",
   "name": "python3"
  },
  "language_info": {
   "codemirror_mode": {
    "name": "ipython",
    "version": 3
   },
   "file_extension": ".py",
   "mimetype": "text/x-python",
   "name": "python",
   "nbconvert_exporter": "python",
   "pygments_lexer": "ipython3",
   "version": "3.10.11"
  }
 },
 "nbformat": 4,
 "nbformat_minor": 2
}
