{
 "cells": [
  {
   "cell_type": "markdown",
   "metadata": {},
   "source": [
    "S7"
   ]
  },
  {
   "cell_type": "code",
   "execution_count": 25,
   "metadata": {},
   "outputs": [
    {
     "name": "stdout",
     "output_type": "stream",
     "text": [
      "11753 days, 10:42:14.486345\n"
     ]
    }
   ],
   "source": [
    "#1:\n",
    "from datetime import datetime\n",
    "print(datetime.now() - datetime(1992,9,6))"
   ]
  },
  {
   "cell_type": "code",
   "execution_count": 28,
   "metadata": {},
   "outputs": [
    {
     "data": {
      "text/plain": [
       "[3, 5, 9, 15, 21, 25, 27, 33, 35, 39, 45]"
      ]
     },
     "execution_count": 28,
     "metadata": {},
     "output_type": "execute_result"
    }
   ],
   "source": [
    "#2:\n",
    "odd_list = []\n",
    "for i in range(1,51,2):\n",
    "    if i % 3 == 0 or i % 5 == 0:\n",
    "        odd_list.append(i)\n",
    "odd_list"
   ]
  },
  {
   "cell_type": "code",
   "execution_count": null,
   "metadata": {},
   "outputs": [
    {
     "name": "stdout",
     "output_type": "stream",
     "text": [
      "['hello', 'hallo', 'mello', 'hallo', 'yello', 'hello', 'yello', 'yello', 'hello', 'hallo', 'hello', 'hallo', 'hello', 'hello', 'hello', 'mello', 'hallo', 'yello', 'hello', 'hallo', 'hello', 'yello', 'yello', 'hallo', 'hallo', 'hello', 'hello', 'hallo', 'yello', 'mello', 'hello', 'hello', 'hallo', 'hello', 'hallo', 'mello', 'hello', 'mello', 'hello', 'yello', 'mello', 'hallo', 'yello', 'yello', 'hallo', 'mello', 'mello', 'yello', 'yello', 'yello', 'mello', 'mello', 'hallo', 'yello', 'yello', 'hallo', 'mello', 'yello', 'hello', 'hello', 'hallo', 'hallo', 'mello', 'hello', 'mello', 'hello', 'hello', 'mello', 'yello', 'yello', 'hello', 'yello', 'hallo', 'hallo', 'mello', 'hallo', 'hello', 'yello', 'hallo', 'yello', 'hello', 'yello', 'hallo', 'hello', 'hello', 'yello', 'yello', 'hello', 'mello', 'hallo', 'yello', 'hello', 'mello', 'hello', 'hello', 'hallo', 'hallo', 'yello', 'hallo', 'mello']\n",
      "['hello', 'hello', 'hello', 'hello', 'hello', 'hello', 'hello', 'hello', 'hello', 'hello', 'hello', 'hello', 'hello', 'hello', 'hello', 'hello', 'hello', 'hello', 'hello', 'hello', 'hello', 'hello', 'hello', 'hello', 'hello', 'hello', 'hello', 'hello', 'hello', 'hello']\n"
     ]
    }
   ],
   "source": [
    "#3:\n",
    "import random\n",
    "import copy\n",
    "items_list = [\"hello\", \"yello\", \"mello\", \"hallo\"]\n",
    "main_list = []\n",
    "for _ in range(100):\n",
    "    main_list.append(random.choice(items_list))\n",
    "print(main_list)"
   ]
  },
  {
   "cell_type": "code",
   "execution_count": 64,
   "metadata": {},
   "outputs": [
    {
     "name": "stdout",
     "output_type": "stream",
     "text": [
      "['hello', 'hello', 'hello', 'hello', 'hello', 'hello', 'hello', 'hello', 'hello', 'hello', 'hello', 'hello', 'hello', 'hello', 'hello', 'hello', 'hello', 'hello', 'hello', 'hello', 'hello', 'hello', 'hello', 'hello', 'hello', 'hello', 'hello', 'hello', 'hello', 'hello']\n"
     ]
    }
   ],
   "source": [
    "#4:\n",
    "temp_list = []\n",
    "for item in main_list:\n",
    "    if item == \"hello\":\n",
    "        temp_list.append(item)\n",
    "main_list = copy.deepcopy(temp_list)\n",
    "print(main_list)"
   ]
  },
  {
   "cell_type": "code",
   "execution_count": null,
   "metadata": {},
   "outputs": [
    {
     "name": "stdout",
     "output_type": "stream",
     "text": [
      "{'milk': 5, 'suger': 2, 'butter': 10, 'yogurt': 1, 'cheese': 3}\n",
      "MAX = 10 , MIN = 1\n"
     ]
    }
   ],
   "source": [
    "#5:\n",
    "list_1=[\"milk\",\"suger\",\"butter\",\"yogurt\",\"cheese\"]\n",
    "list_2 =  [5,2,10,1,3]\n",
    "shopping = {}\n",
    "for i in range(len(list_1)):\n",
    "    shopping[list_1[i]] = list_2[i]\n",
    "print(shopping)"
   ]
  },
  {
   "cell_type": "code",
   "execution_count": 65,
   "metadata": {},
   "outputs": [
    {
     "name": "stdout",
     "output_type": "stream",
     "text": [
      "MAX = 10 , MIN = 1\n"
     ]
    }
   ],
   "source": [
    "#6:\n",
    "values = shopping.values()\n",
    "print(f\"MAX = {max(values)} , MIN = {min(values)}\")"
   ]
  },
  {
   "cell_type": "code",
   "execution_count": 71,
   "metadata": {},
   "outputs": [
    {
     "name": "stdout",
     "output_type": "stream",
     "text": [
      "{'Apple': 1, 'is': 2, 'an': 1, 'American': 1, 'multinational': 1, 'corporation': 1, 'and': 3, 'technology': 1, 'company': 1, 'headquartered': 1, 'incorporated': 1, 'in': 2, 'Silicon': 1, 'It': 1, 'best': 1, 'known': 1, 'for': 1, 'its': 1, 'consumer': 1}\n"
     ]
    }
   ],
   "source": [
    "#7:\n",
    "user_text = input(\"Please Enter Your Text : \\n\").split()\n",
    "word_counter = {}\n",
    "for word in user_text:\n",
    "    if word.isalpha():\n",
    "        word_counter.setdefault(word,0)\n",
    "        word_counter[word] += 1\n",
    "print(word_counter)"
   ]
  },
  {
   "cell_type": "code",
   "execution_count": 105,
   "metadata": {},
   "outputs": [
    {
     "name": "stdout",
     "output_type": "stream",
     "text": [
      "{'a': 400, 'b': 400, 'c': 300, 'd': 400}\n"
     ]
    }
   ],
   "source": [
    "#8:\n",
    "d1 = {'a': 100, 'b': 200, 'c':300}\n",
    "d2 = {'a': 300, 'b': 200, 'd':400}\n",
    "final_d = {}\n",
    "for key,value in d1.items():\n",
    "    final_d.setdefault(key,value)\n",
    "    if key in d2.keys():\n",
    "        final_d[key] = d2[key] + d1[key]\n",
    "for key,value in d2.items():\n",
    "    final_d.setdefault(key,value)\n",
    "\n",
    "print(final_d)"
   ]
  }
 ],
 "metadata": {
  "kernelspec": {
   "display_name": "Python 3",
   "language": "python",
   "name": "python3"
  },
  "language_info": {
   "codemirror_mode": {
    "name": "ipython",
    "version": 3
   },
   "file_extension": ".py",
   "mimetype": "text/x-python",
   "name": "python",
   "nbconvert_exporter": "python",
   "pygments_lexer": "ipython3",
   "version": "3.10.11"
  }
 },
 "nbformat": 4,
 "nbformat_minor": 2
}
