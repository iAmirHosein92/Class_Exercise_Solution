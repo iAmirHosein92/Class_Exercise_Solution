{
 "cells": [
  {
   "cell_type": "markdown",
   "metadata": {},
   "source": [
    "S8"
   ]
  },
  {
   "cell_type": "code",
   "execution_count": 1,
   "metadata": {},
   "outputs": [
    {
     "data": {
      "text/plain": [
       "['d', 'c', 'b', 'a', 5, 4, 3, 2, 1]"
      ]
     },
     "execution_count": 1,
     "metadata": {},
     "output_type": "execute_result"
    }
   ],
   "source": [
    "#1:\n",
    "def reverse_list(ourlist):\n",
    "    return ourlist[::-1]\n",
    "reverse_list([1,2,3,4,5,\"a\",\"b\",\"c\",\"d\"])"
   ]
  },
  {
   "cell_type": "code",
   "execution_count": 12,
   "metadata": {},
   "outputs": [
    {
     "name": "stdout",
     "output_type": "stream",
     "text": [
      "Hello, World\n"
     ]
    },
    {
     "data": {
      "text/plain": [
       "20"
      ]
     },
     "execution_count": 12,
     "metadata": {},
     "output_type": "execute_result"
    }
   ],
   "source": [
    "#2:\n",
    "def biggest_len(ourlist):\n",
    "    biggest_len = 0\n",
    "    highest_item = \"\"\n",
    "    for item in ourlist:\n",
    "        if type(item) in [str,list]:\n",
    "            if len(item) > biggest_len:\n",
    "                biggest_len = len(item)\n",
    "                highest_item = item\n",
    "        else:\n",
    "            if item > biggest_len:\n",
    "                biggest_len = item\n",
    "                highest_item = item\n",
    "    return highest_item\n",
    "print(biggest_len([1,2,3,4,5,\"Hello, World\",\"b\",\"c\",\"d\"]))\n",
    "biggest_len([12,2,3,4,20,\"test\",\"hi\",\"some\",\"d\"])"
   ]
  },
  {
   "cell_type": "code",
   "execution_count": 56,
   "metadata": {},
   "outputs": [
    {
     "name": "stdout",
     "output_type": "stream",
     "text": [
      "Your Negetive Score : 22\n",
      "Your driver's license has been revoked.\n"
     ]
    }
   ],
   "source": [
    "#3:\n",
    "def speed_control(speed):\n",
    "    negetive_score = 0\n",
    "    if speed <= 70:\n",
    "        return \"Good\"\n",
    "    else:\n",
    "        for i in range(70,speed,5):\n",
    "            negetive_score += 1\n",
    "        print(f\"Your Negetive Score : {negetive_score}\")    \n",
    "        if negetive_score > 12:\n",
    "            print(\"Your driver's license has been revoked.\")\n",
    "speed_control(70)\n",
    "speed_control(180)\n",
    "\n"
   ]
  },
  {
   "cell_type": "code",
   "execution_count": 81,
   "metadata": {},
   "outputs": [
    {
     "data": {
      "text/plain": [
       "3.0"
      ]
     },
     "execution_count": 81,
     "metadata": {},
     "output_type": "execute_result"
    }
   ],
   "source": [
    "#4:\n",
    "def distance(a,b):\n",
    "    q = (a[0] - b[0]) ** 2\n",
    "    p = (a[1] - b[1]) ** 2\n",
    "    euclidean_distance = (q+p) ** 0.5\n",
    "    return euclidean_distance\n",
    "distance(a=(4,2),b=(4,5))"
   ]
  },
  {
   "cell_type": "code",
   "execution_count": null,
   "metadata": {},
   "outputs": [
    {
     "name": "stdout",
     "output_type": "stream",
     "text": [
      "-1.5\n"
     ]
    },
    {
     "data": {
      "text/plain": [
       "True"
      ]
     },
     "execution_count": 145,
     "metadata": {},
     "output_type": "execute_result"
    }
   ],
   "source": [
    "#5:\n",
    "def slope(a,b,c):\n",
    "    s_a_b = (b[1]-a[1])/(b[0]-a[0]) \n",
    "    s_b_c = (c[1]-b[1])/(c[0]-b[0])\n",
    "    s_a_c = (c[1]-a[1])/(c[0]-a[0])\n",
    "    if s_a_b == s_b_c == s_a_c:\n",
    "        print(s_a_b)\n",
    "        return True\n",
    "    else:\n",
    "        return False\n",
    "        \n",
    "slope(a=(1,2),b=(3,-1),c=(5,-4))"
   ]
  },
  {
   "cell_type": "code",
   "execution_count": 163,
   "metadata": {},
   "outputs": [
    {
     "data": {
      "text/plain": [
       "'right-angled'"
      ]
     },
     "execution_count": 163,
     "metadata": {},
     "output_type": "execute_result"
    }
   ],
   "source": [
    "#6:\n",
    "def triangle_type(a,b,c):\n",
    "    side_a = (((a[0] - b[0])**2) + ((a[1] - b[1])**2)) ** 0.5\n",
    "    side_b = (((b[0] - c[0])**2) + ((b[1] - c[1])**2)) ** 0.5\n",
    "    side_c = (((a[0] - c[0])**2) + ((a[1] - c[1])**2)) ** 0.5\n",
    "    if side_a < side_b + side_c and side_b < side_a + side_c and side_c < side_a + side_b:\n",
    "        if side_a == side_b == side_c:\n",
    "            return \"Equilateral\"\n",
    "        elif (side_a == side_b) or (side_b == side_c) or (side_a == side_c):\n",
    "            return \"isosceles\"\n",
    "        elif (side_a **2 == side_b **2 + side_c **2) or (side_b **2 == side_a **2 + side_c **2) or (side_b **2 == side_c **2 + side_a **2):\n",
    "            return \"right-angled\"\n",
    "        else:\n",
    "            return \"regular\"\n",
    "triangle_type(a=(0,0),b=(4,0),c=(0,3))"
   ]
  },
  {
   "cell_type": "code",
   "execution_count": 152,
   "metadata": {},
   "outputs": [
    {
     "data": {
      "text/plain": [
       "{20: 'milk', 10: 'meat', 5: 'chips', 1: 'salad'}"
      ]
     },
     "execution_count": 152,
     "metadata": {},
     "output_type": "execute_result"
    }
   ],
   "source": [
    "#7:\n",
    "def reverse_dict(ourdict):\n",
    "    return {value:key for key,value in ourdict.items()}\n",
    "reverse_dict({\n",
    "    'milk': 20,\n",
    "    'meat': 10,\n",
    "    'chips': 5,\n",
    "    'salad': 1\n",
    "})"
   ]
  },
  {
   "cell_type": "code",
   "execution_count": 161,
   "metadata": {},
   "outputs": [
    {
     "data": {
      "text/plain": [
       "[(0, 0), (1, 2), (3, 4), (5, 5)]"
      ]
     },
     "execution_count": 161,
     "metadata": {},
     "output_type": "execute_result"
    }
   ],
   "source": [
    "#8:\n",
    "def sort_from_distance(points):\n",
    "    result = sorted(points,key=lambda distance: distance[0] **2 + distance[1] **2)\n",
    "    return result\n",
    "\n",
    "points = [(3, 4), (1, 2), (5, 5), (0, 0)]\n",
    "sort_from_distance(points)"
   ]
  }
 ],
 "metadata": {
  "kernelspec": {
   "display_name": "Python 3",
   "language": "python",
   "name": "python3"
  },
  "language_info": {
   "codemirror_mode": {
    "name": "ipython",
    "version": 3
   },
   "file_extension": ".py",
   "mimetype": "text/x-python",
   "name": "python",
   "nbconvert_exporter": "python",
   "pygments_lexer": "ipython3",
   "version": "3.10.11"
  }
 },
 "nbformat": 4,
 "nbformat_minor": 2
}
