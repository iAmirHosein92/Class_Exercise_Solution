{
 "cells": [
  {
   "cell_type": "markdown",
   "metadata": {},
   "source": [
    "S10:"
   ]
  },
  {
   "cell_type": "code",
   "execution_count": 1,
   "metadata": {},
   "outputs": [],
   "source": [
    "#1:\n",
    "with open(\"text1.txt\", \"r\") as file1:\n",
    "    with open(\"text2.txt\", \"w\") as file2:\n",
    "        file2.write(file1.read())"
   ]
  },
  {
   "cell_type": "code",
   "execution_count": 26,
   "metadata": {},
   "outputs": [
    {
     "data": {
      "text/plain": [
       "72"
      ]
     },
     "execution_count": 26,
     "metadata": {},
     "output_type": "execute_result"
    }
   ],
   "source": [
    "#2:\n",
    "def replace_word(name):\n",
    "    with open(\"letter_1.txt\",\"r\") as letterFile:\n",
    "        text = letterFile.read()\n",
    "    with open(\"letter_1.txt\", \"w\") as newLetterFile:\n",
    "        return newLetterFile.write(text.replace(\"[NAME]\", name))\n",
    "replace_word(\"Amir\")"
   ]
  },
  {
   "cell_type": "code",
   "execution_count": 27,
   "metadata": {},
   "outputs": [
    {
     "name": "stdout",
     "output_type": "stream",
     "text": [
      "[5, 53, 23, 3, 15, 91, 23, 52, 39, 27]\n",
      "[52]\n",
      "[5, 53, 23, 3, 15, 91, 23, 39, 27]\n"
     ]
    }
   ],
   "source": [
    "#3:\n",
    "import random\n",
    "numbers = [random.randint(1,100) for _ in range(10)]\n",
    "even_num = [num for num in numbers if num % 2 == 0]\n",
    "odd_num = [num for num in numbers if num % 2 != 0]\n",
    "print(numbers)\n",
    "print(even_num)\n",
    "print(odd_num)"
   ]
  },
  {
   "cell_type": "code",
   "execution_count": 30,
   "metadata": {},
   "outputs": [
    {
     "name": "stdout",
     "output_type": "stream",
     "text": [
      "[0, 5, 6, 10, 12, 15, 18, 20, 24, 25, 30, 35, 36, 40, 42, 45, 48, 50, 54, 55, 60, 65, 66, 70, 72, 75, 78, 80, 84, 85, 90, 95, 96, 100]\n"
     ]
    }
   ],
   "source": [
    "#4:\n",
    "list_4 = [number for number in range(0,101) if (number % 5 == 0 or number % 6 == 0)]\n",
    "print(list_4)"
   ]
  },
  {
   "cell_type": "code",
   "execution_count": null,
   "metadata": {},
   "outputs": [
    {
     "name": "stdout",
     "output_type": "stream",
     "text": [
      "Date:Sat, 10 Azar 1403 \n",
      "\n",
      "Region, Tehran (منطقه 15 تهران) = 149 \n",
      "Region 19, Tehran, Iran = 130 \n",
      "Fath, Tehran, Iran = 119 \n",
      "Salamat, Tehran (سلامت تهران) = 117 \n",
      "Sharif University, Tehran (شریف- منطقه 2 تهران) = 105 \n",
      "Tehran - Park Shokoufeh, Tehran (تهران - پارک شکوفه تهران) = 104 \n",
      "Razi, Tehran (پارک رازی  تهران) = 102 \n",
      "Pirozi, Tehran, Iran = 101 \n",
      "Region 11, Tehran, Iran = 100 \n",
      "Tarbiyat Modares University, Tehran, Iran = 92 \n",
      "Mahalati, Tehran, Iran = 86 \n",
      "Tehran University, Tehran (دانشگاه تهران تهران) = 84 \n",
      "Golbarg, Tehran (گلبرگ- منطقه 8 تهران) = 74 \n",
      "Geophysics, Tehran (ژئو فیزیک تهران) = 73 \n",
      "Setad, Tehran, Iran = 69 \n",
      "Region 2, Tehran, Iran = 68 \n",
      "Masoudiyeh, Tehran, Iran = 67 \n",
      "Imam Khomeini, Tehran (امام خمینی تهران) = - \n",
      "Region 4, Tehran, Iran = - \n",
      "District 12, Tehran (شهرداری مرکز منطقه 12 تهران) = - \n",
      "Region 10, Tehran, Iran = - \n"
     ]
    }
   ],
   "source": [
    "#5:\n",
    "import requests\n",
    "import jdatetime\n",
    "TOKEN = \"****\"\n",
    "url = \"https://api.waqi.info/search/\"\n",
    "parameters = {\n",
    "    \"token\":TOKEN,\n",
    "    \"keyword\":\"tehran\",\n",
    "    \n",
    "}\n",
    "feedRes = requests.get(url=url,params=parameters)\n",
    "tehran_air_data =feedRes.json()[\"data\"]\n",
    "with open(\"tehran_air_quality_today.txt\",\"w\") as file:\n",
    "    file.write(f\"Date:{jdatetime.datetime.now().strftime('%a, %d %B %Y ')}\\n\")\n",
    "    for region in tehran_air_data:\n",
    "        file.write(f\"\\n{region['station']['name']} = {region['aqi']} \")\n",
    "with open(\"tehran_air_quality_today.txt\") as resultFile:\n",
    "    print(resultFile.read())"
   ]
  },
  {
   "cell_type": "code",
   "execution_count": null,
   "metadata": {},
   "outputs": [
    {
     "data": {
      "text/plain": [
       "'Have a great day!\\nAll my love,\\nAmirHosein'"
      ]
     },
     "execution_count": 34,
     "metadata": {},
     "output_type": "execute_result"
    }
   ],
   "source": [
    "#6:\n",
    "def read_n_last_lines(num,file):\n",
    "    with open(file,\"r\") as newFile:\n",
    "        text = newFile.readlines()\n",
    "        if num > len(text):\n",
    "            print(f\"Your text just have {len(text)} lines.\")\n",
    "        else:\n",
    "            new_text = text[len(text)-num:]\n",
    "    return \"\".join(new_text)\n",
    "\n",
    "read_n_last_lines(3, \"letter_1.txt\")"
   ]
  },
  {
   "cell_type": "code",
   "execution_count": 35,
   "metadata": {},
   "outputs": [
    {
     "data": {
      "text/plain": [
       "\"Dear Amir,\\nIt's your birthday!\\n\""
      ]
     },
     "execution_count": 35,
     "metadata": {},
     "output_type": "execute_result"
    }
   ],
   "source": [
    "#7:\n",
    "def read_n_first_lines(num,file):\n",
    "    with open(file,\"r\") as newFile:\n",
    "        text = newFile.readlines()\n",
    "        if num > len(text):\n",
    "            print(f\"Your text just have {len(text)} lines.\")\n",
    "        else:\n",
    "            new_text = text[:num]\n",
    "    return \"\".join(new_text)\n",
    "read_n_first_lines(2, \"letter_1.txt\")"
   ]
  }
 ],
 "metadata": {
  "kernelspec": {
   "display_name": "Python 3",
   "language": "python",
   "name": "python3"
  },
  "language_info": {
   "codemirror_mode": {
    "name": "ipython",
    "version": 3
   },
   "file_extension": ".py",
   "mimetype": "text/x-python",
   "name": "python",
   "nbconvert_exporter": "python",
   "pygments_lexer": "ipython3",
   "version": "3.10.11"
  }
 },
 "nbformat": 4,
 "nbformat_minor": 2
}
